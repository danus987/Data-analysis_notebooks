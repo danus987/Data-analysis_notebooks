{
 "cells": [
  {
   "cell_type": "code",
   "execution_count": 196,
   "id": "19a27802",
   "metadata": {},
   "outputs": [],
   "source": [
    "import pandas as pd\n",
    "import numpy as np"
   ]
  },
  {
   "cell_type": "code",
   "execution_count": 197,
   "id": "ea4e287c",
   "metadata": {},
   "outputs": [],
   "source": [
    "data = [[1, 'The Great Gatsby', 'F. Scott', 'Fiction', 1925, 3], [2, 'To Kill a Mockingbird', 'Harper Lee', 'Fiction', 1960, 3], [3, '1984', 'George Orwell', 'Dystopian', 1949, 1], [4, 'Pride and Prejudice', 'Jane Austen', 'Romance', 1813, 2], [5, 'The Catcher in the Rye', 'J.D. Salinger', 'Fiction', 1951, 1], [6, 'Brave New World', 'Aldous Huxley', 'Dystopian', 1932, 4]]\n",
    "library_books = pd.DataFrame(data,columns={\n",
    "    'book_id': pd.Series(dtype='int'),\n",
    "    'title': pd.Series(dtype='str'),\n",
    "    'author': pd.Series(dtype='str'),\n",
    "    'genre': pd.Series(dtype='str'),\n",
    "    'publication_year': pd.Series(dtype='int'),\n",
    "    'total_copies': pd.Series(dtype='int')\n",
    "})\n",
    "data = [[1, 1, 'Alice Smith', '2024-01-15', None], [2, 1, 'Bob Johnson', '2024-01-20', None], [3, 2, 'Carol White', '2024-01-10', '2024-01-25'], [4, 3, 'David Brown', '2024-02-01', None], [5, 4, 'Emma Wilson', '2024-01-05', None], [6, 5, 'Frank Davis', '2024-01-18', '2024-02-10'], [7, 1, 'Grace Miller', '2024-02-05', None], [8, 6, 'Henry Taylor', '2024-01-12', None], [9, 2, 'Ivan Clark', '2024-02-12', None], [10, 2, 'Jane Adams', '2024-02-15', None]]\n",
    "borrowing_records = pd.DataFrame(data,columns={\n",
    "    'record_id': pd.Series(dtype='int'),\n",
    "    'book_id': pd.Series(dtype='int'),\n",
    "    'borrower_name': pd.Series(dtype='str'),\n",
    "    'borrow_date': pd.Series(dtype='datetime64[ns]'),\n",
    "    'return_date': pd.Series(dtype='datetime64[ns]')\n",
    "})"
   ]
  },
  {
   "cell_type": "code",
   "execution_count": 198,
   "id": "6799418c",
   "metadata": {},
   "outputs": [],
   "source": [
    "df = pd.merge(library_books,borrowing_records,on='book_id')"
   ]
  },
  {
   "cell_type": "code",
   "execution_count": 199,
   "id": "d5b8ad3c",
   "metadata": {},
   "outputs": [],
   "source": [
    "df['borrowed'] = np.where(df['return_date'].isna(),1,0)\n",
    "df = df.groupby(['title','author','genre','publication_year']).agg({'borrowed':'sum','total_copies':'first'}).reset_index()\n",
    "df['available'] = df['total_copies'] - df['borrowed']"
   ]
  },
  {
   "cell_type": "code",
   "execution_count": 200,
   "id": "fb234492",
   "metadata": {},
   "outputs": [
    {
     "data": {
      "text/html": [
       "<div>\n",
       "<style scoped>\n",
       "    .dataframe tbody tr th:only-of-type {\n",
       "        vertical-align: middle;\n",
       "    }\n",
       "\n",
       "    .dataframe tbody tr th {\n",
       "        vertical-align: top;\n",
       "    }\n",
       "\n",
       "    .dataframe thead th {\n",
       "        text-align: right;\n",
       "    }\n",
       "</style>\n",
       "<table border=\"1\" class=\"dataframe\">\n",
       "  <thead>\n",
       "    <tr style=\"text-align: right;\">\n",
       "      <th></th>\n",
       "      <th>title</th>\n",
       "      <th>author</th>\n",
       "      <th>genre</th>\n",
       "      <th>publication_year</th>\n",
       "      <th>borrowed</th>\n",
       "    </tr>\n",
       "  </thead>\n",
       "  <tbody>\n",
       "    <tr>\n",
       "      <th>4</th>\n",
       "      <td>The Great Gatsby</td>\n",
       "      <td>F. Scott</td>\n",
       "      <td>Fiction</td>\n",
       "      <td>1925</td>\n",
       "      <td>3</td>\n",
       "    </tr>\n",
       "    <tr>\n",
       "      <th>0</th>\n",
       "      <td>1984</td>\n",
       "      <td>George Orwell</td>\n",
       "      <td>Dystopian</td>\n",
       "      <td>1949</td>\n",
       "      <td>1</td>\n",
       "    </tr>\n",
       "  </tbody>\n",
       "</table>\n",
       "</div>"
      ],
      "text/plain": [
       "              title         author      genre  publication_year  borrowed\n",
       "4  The Great Gatsby       F. Scott    Fiction              1925         3\n",
       "0              1984  George Orwell  Dystopian              1949         1"
      ]
     },
     "execution_count": 200,
     "metadata": {},
     "output_type": "execute_result"
    }
   ],
   "source": [
    "result = df[df['available']==0][['title','author','genre','publication_year','borrowed']]\n",
    "result = result.sort_values(by=['borrowed','title'],ascending=[False,True])\n",
    "result"
   ]
  }
 ],
 "metadata": {
  "kernelspec": {
   "display_name": "Python 3",
   "language": "python",
   "name": "python3"
  },
  "language_info": {
   "codemirror_mode": {
    "name": "ipython",
    "version": 3
   },
   "file_extension": ".py",
   "mimetype": "text/x-python",
   "name": "python",
   "nbconvert_exporter": "python",
   "pygments_lexer": "ipython3",
   "version": "3.13.5"
  }
 },
 "nbformat": 4,
 "nbformat_minor": 5
}

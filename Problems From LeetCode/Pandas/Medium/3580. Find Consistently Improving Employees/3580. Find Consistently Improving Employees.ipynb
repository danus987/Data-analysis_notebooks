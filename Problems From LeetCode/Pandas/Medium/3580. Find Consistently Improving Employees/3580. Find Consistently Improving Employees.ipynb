{
 "cells": [
  {
   "cell_type": "code",
   "execution_count": 191,
   "id": "e62921c2",
   "metadata": {},
   "outputs": [],
   "source": [
    "import pandas as pd"
   ]
  },
  {
   "cell_type": "code",
   "execution_count": 192,
   "metadata": {},
   "outputs": [],
   "source": [
    "data = [[1, 'Alice Johnson'], [2, 'Bob Smith'], [3, 'Carol Davis'], [4, 'David Wilson'], [5, 'Emma Brown']]\n",
    "employees = pd.DataFrame(data,columns={\n",
    "    'employee_id': pd.Series(dtype='int'),\n",
    "    'name': pd.Series(dtype='str')\n",
    "})\n",
    "data = [[1, 1, '2023-01-15', 2], [2, 1, '2023-04-15', 3], [3, 1, '2023-07-15', 4], [4, 1, '2023-10-15', 5], [5, 2, '2023-02-01', 3], [6, 2, '2023-05-01', 2], [7, 2, '2023-08-01', 4], [8, 2, '2023-11-01', 5], [9, 3, '2023-03-10', 1], [10, 3, '2023-06-10', 2], [11, 3, '2023-09-10', 3], [12, 3, '2023-12-10', 4], [13, 4, '2023-01-20', 4], [14, 4, '2023-04-20', 4], [15, 4, '2023-07-20', 4], [16, 5, '2023-02-15', 3], [17, 5, '2023-05-15', 2]]\n",
    "performance_reviews = pd.DataFrame(data,columns={\n",
    "    'review_id': pd.Series(dtype='int'),\n",
    "    'employee_id': pd.Series(dtype='int'),\n",
    "    'review_date': pd.Series(dtype='datetime64[ns]'),\n",
    "    'rating': pd.Series(dtype='float')  # Use float to accommodate decimal ratings\n",
    "})"
   ]
  },
  {
   "cell_type": "code",
   "execution_count": 193,
   "metadata": {},
   "outputs": [],
   "source": [
    "df = pd.merge(employees,performance_reviews,on='employee_id')"
   ]
  },
  {
   "cell_type": "code",
   "execution_count": 194,
   "metadata": {},
   "outputs": [],
   "source": [
    "df['number_of_reviews'] = df.groupby('name')['review_id'].transform('count')"
   ]
  },
  {
   "cell_type": "code",
   "execution_count": 195,
   "metadata": {},
   "outputs": [],
   "source": [
    "df = df[df['number_of_reviews']>=3]"
   ]
  },
  {
   "cell_type": "code",
   "execution_count": 196,
   "id": "61c5e20f",
   "metadata": {},
   "outputs": [],
   "source": [
    "df_sorted = df.sort_values(['name','review_date'],ascending=[True,False])\n",
    "df_sorted = df_sorted.groupby('name').head(3)"
   ]
  },
  {
   "cell_type": "code",
   "execution_count": 197,
   "id": "07d9ea32",
   "metadata": {},
   "outputs": [
    {
     "data": {
      "text/plain": [
       "name\n",
       "Alice Johnson    [3, 4, 5]\n",
       "Bob Smith        [2, 4, 5]\n",
       "Carol Davis      [2, 3, 4]\n",
       "David Wilson     [4, 4, 4]\n",
       "Name: rating, dtype: object"
      ]
     },
     "execution_count": 197,
     "metadata": {},
     "output_type": "execute_result"
    }
   ],
   "source": [
    "rating=df_sorted.sort_values(['name','review_date'])\n",
    "rating = rating.groupby('name')['rating'].apply(list)\n",
    "rating"
   ]
  },
  {
   "cell_type": "code",
   "execution_count": 198,
   "id": "9b8341ee",
   "metadata": {},
   "outputs": [],
   "source": [
    "def check_if_good(list):\n",
    "    if len(list) == 3 and list[0] < list[1] < list[2]:\n",
    "        return  list[2] - list[0]"
   ]
  },
  {
   "cell_type": "code",
   "execution_count": 199,
   "id": "5191d0d4",
   "metadata": {},
   "outputs": [],
   "source": [
    "improved_employees = rating.apply(check_if_good)\n",
    "improved_employees=improved_employees.dropna()\n",
    "improved_employees=improved_employees.reset_index()\n",
    "improved_employees.columns=['name','improvement_score']"
   ]
  },
  {
   "cell_type": "code",
   "execution_count": null,
   "id": "6f922b12",
   "metadata": {},
   "outputs": [
    {
     "data": {
      "text/html": [
       "<div>\n",
       "<style scoped>\n",
       "    .dataframe tbody tr th:only-of-type {\n",
       "        vertical-align: middle;\n",
       "    }\n",
       "\n",
       "    .dataframe tbody tr th {\n",
       "        vertical-align: top;\n",
       "    }\n",
       "\n",
       "    .dataframe thead th {\n",
       "        text-align: right;\n",
       "    }\n",
       "</style>\n",
       "<table border=\"1\" class=\"dataframe\">\n",
       "  <thead>\n",
       "    <tr style=\"text-align: right;\">\n",
       "      <th></th>\n",
       "      <th>name</th>\n",
       "      <th>improvement_score</th>\n",
       "    </tr>\n",
       "  </thead>\n",
       "  <tbody>\n",
       "    <tr>\n",
       "      <th>0</th>\n",
       "      <td>Alice Johnson</td>\n",
       "      <td>2.0</td>\n",
       "    </tr>\n",
       "    <tr>\n",
       "      <th>1</th>\n",
       "      <td>Bob Smith</td>\n",
       "      <td>3.0</td>\n",
       "    </tr>\n",
       "    <tr>\n",
       "      <th>2</th>\n",
       "      <td>Carol Davis</td>\n",
       "      <td>2.0</td>\n",
       "    </tr>\n",
       "  </tbody>\n",
       "</table>\n",
       "</div>"
      ],
      "text/plain": [
       "            name  improvement_score\n",
       "0  Alice Johnson                2.0\n",
       "1      Bob Smith                3.0\n",
       "2    Carol Davis                2.0"
      ]
     },
     "execution_count": 200,
     "metadata": {},
     "output_type": "execute_result"
    }
   ],
   "source": [
    "improved_employees"
   ]
  }
 ],
 "metadata": {
  "kernelspec": {
   "display_name": "Python 3",
   "language": "python",
   "name": "python3"
  },
  "language_info": {
   "codemirror_mode": {
    "name": "ipython",
    "version": 3
   },
   "file_extension": ".py",
   "mimetype": "text/x-python",
   "name": "python",
   "nbconvert_exporter": "python",
   "pygments_lexer": "ipython3",
   "version": "3.10.11"
  }
 },
 "nbformat": 4,
 "nbformat_minor": 5
}
